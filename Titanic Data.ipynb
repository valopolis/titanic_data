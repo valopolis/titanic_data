{
 "cells": [
  {
   "cell_type": "markdown",
   "metadata": {},
   "source": [
    "# Introduction"
   ]
  },
  {
   "cell_type": "markdown",
   "metadata": {},
   "source": [
    "At 2:20 am, on April 15, 1912, the RMS Titanic sank miles off the coast of Canada.  The titanic was a luxury ocean liner and was carrying over 2,000 passengers from ports in England, France, and Ireland to New York City.  A little over 2 hours after hitting an iceberg, the Titanic broke in half and sank bringing over 1500 people with her.  The Data that follows is a sample of the passengers of the Titanic.  The data includes passengers of all ages, and class levels.  Within this sample, there are passengers who came aboard the Titanic at Cherbourg, France; Queenstown, Ireland; and Southampton, England.  I will explore this data and create conclusions based on the following questions:\n",
    "\n",
    "What factors made people more likely to survive?\n",
    "Of the people who survived, how many lost family members?\n",
    "What was the average price of tickets in each class?\n",
    "Which port had the highest/lowest amount of 1st class passengers?\n",
    "    Does this correlate to the number of passengers originating from each port that perished?"
   ]
  },
  {
   "cell_type": "code",
   "execution_count": 1,
   "metadata": {},
   "outputs": [
    {
     "name": "stdout",
     "output_type": "stream",
     "text": [
      "OrderedDict([('PassengerId', '4'), ('Survived', '1'), ('Pclass', '1'), ('Name', 'Futrelle, Mrs. Jacques Heath (Lily May Peel)'), ('Sex', 'female'), ('Age', '35'), ('SibSp', '1'), ('Parch', '0'), ('Ticket', '113803'), ('Fare', '53.1'), ('Cabin', 'C123'), ('Embarked', 'S')])\n"
     ]
    }
   ],
   "source": [
    "import unicodecsv\n",
    "\n",
    "titanic_file = 'titanic-data.csv'\n",
    "\n",
    "with open(titanic_file, 'rb') as f:\n",
    "    reader = unicodecsv.DictReader(f)\n",
    "    titanic = list(reader)\n",
    "    \n",
    "print (titanic[3])"
   ]
  },
  {
   "cell_type": "code",
   "execution_count": 2,
   "metadata": {},
   "outputs": [
    {
     "data": {
      "text/plain": [
       "OrderedDict([('PassengerId', '1'),\n",
       "             ('Survived', False),\n",
       "             ('Pclass', 3),\n",
       "             ('Name', 'Braund, Mr. Owen Harris'),\n",
       "             ('Sex', 'male'),\n",
       "             ('Age', '22'),\n",
       "             ('SibSp', 1),\n",
       "             ('Parch', 0),\n",
       "             ('Ticket', 'A/5 21171'),\n",
       "             ('Fare', 7.25),\n",
       "             ('Cabin', ''),\n",
       "             ('Embarked', 'S')])"
      ]
     },
     "execution_count": 2,
     "metadata": {},
     "output_type": "execute_result"
    }
   ],
   "source": [
    "for data in titanic:\n",
    "    data['Survived'] = data['Survived'] == '1'\n",
    "    data['Pclass'] = int(data['Pclass'])\n",
    "    data['SibSp'] = int(data['SibSp'])\n",
    "    data['Parch'] = int(data['Parch'])\n",
    "    data['Fare'] = float(data['Fare'])\n",
    "\n",
    "titanic[0]"
   ]
  },
  {
   "cell_type": "markdown",
   "metadata": {
    "collapsed": true
   },
   "source": [
    "### Of the people who survived, How many lost Family members?"
   ]
  },
  {
   "cell_type": "code",
   "execution_count": 3,
   "metadata": {},
   "outputs": [
    {
     "name": "stdout",
     "output_type": "stream",
     "text": [
      "342 surviving passengers lost 321 family members\n"
     ]
    }
   ],
   "source": [
    "num_of_passengers = 0\n",
    "family = 0\n",
    "for passengers in titanic:\n",
    "    if passengers['Survived'] == True:\n",
    "        family += passengers['SibSp'] + passengers['Parch']\n",
    "        num_of_passengers += 1\n",
    "        \n",
    "print ('{} surviving passengers lost {} family members'.format(num_of_passengers, family))"
   ]
  },
  {
   "cell_type": "markdown",
   "metadata": {},
   "source": [
    "## What is the Average price of tickets in each class?"
   ]
  },
  {
   "cell_type": "code",
   "execution_count": 114,
   "metadata": {},
   "outputs": [
    {
     "name": "stdout",
     "output_type": "stream",
     "text": [
      "891\n"
     ]
    }
   ],
   "source": [
    "## separate passengers into separate lists by class\n",
    "\n",
    "first_class_passengers = []\n",
    "second_class_passengers = []\n",
    "third_class_passengers = []\n",
    "\n",
    "for rider_class in titanic:\n",
    "    if rider_class['Pclass'] == 1:\n",
    "        first_class_passengers.append(rider_class)\n",
    "    elif rider_class['Pclass'] == 2:\n",
    "        second_class_passengers.append(rider_class)\n",
    "    elif rider_class['Pclass'] == 3:\n",
    "        third_class_passengers.append(rider_class)\n",
    "\n",
    "num_of_fc = (len(first_class_passengers))\n",
    "num_of_sc = (len(second_class_passengers))\n",
    "num_of_tc = (len(third_class_passengers))\n",
    "\n",
    "total_passengers = num_of_fc + num_of_sc + num_of_tc\n",
    "\n"
   ]
  },
  {
   "cell_type": "code",
   "execution_count": 107,
   "metadata": {},
   "outputs": [
    {
     "name": "stdout",
     "output_type": "stream",
     "text": [
      "First class passengers paid an average of $84.15468749999992\n",
      "Second class passengers paid an average of $20.66218315217391\n",
      "Third class passengers paid an average of $13.675550101832997\n"
     ]
    }
   ],
   "source": [
    "import numpy as np\n",
    "import pandas as pd\n",
    "%matplotlib inline\n",
    "import matplotlib.pyplot as plt\n",
    "\n",
    "## change titanic, and passenger class lists to pandas dataframes\n",
    "\n",
    "titanic_df = pd.DataFrame(titanic, columns = titanic[0])\n",
    "first_class = pd.DataFrame(first_class_passengers, columns = first_class_passengers[0])\n",
    "second_class = pd.DataFrame(second_class_passengers, columns = second_class_passengers[0])\n",
    "third_class = pd.DataFrame(third_class_passengers, columns = third_class_passengers[0])\n",
    "\n",
    "print ('First class passengers paid an average of ${}'.format(first_class['Fare'].mean()))\n",
    "print ('Second class passengers paid an average of ${}'.format(second_class['Fare'].mean()))\n",
    "print ('Third class passengers paid an average of ${}'.format(third_class['Fare'].mean()))"
   ]
  },
  {
   "cell_type": "markdown",
   "metadata": {
    "collapsed": true
   },
   "source": [
    "## How many passengers in each class embarked in each port?"
   ]
  },
  {
   "cell_type": "code",
   "execution_count": 110,
   "metadata": {},
   "outputs": [
    {
     "name": "stdout",
     "output_type": "stream",
     "text": [
      "Locations Where Passengers Embarked\n",
      "             First Class  Second Class  Third Class\n",
      "Queensland             2             3           72\n",
      "Southampton          127           164          353\n",
      "Cherbourg             85            17           66\n"
     ]
    },
    {
     "data": {
      "text/plain": [
       "<matplotlib.axes._subplots.AxesSubplot at 0x11a51cc50>"
      ]
     },
     "execution_count": 110,
     "metadata": {},
     "output_type": "execute_result"
    },
    {
     "data": {
      "image/png": "[encoded data removed]",
      "text/plain": [
       "<matplotlib.figure.Figure at 0x11a39a3c8>"
      ]
     },
     "metadata": {},
     "output_type": "display_data"
    }
   ],
   "source": [
    "\n",
    "\n",
    "fclass_list = first_class['Embarked'].tolist()\n",
    "sclass_list = second_class['Embarked'].tolist()\n",
    "tclass_list = third_class['Embarked'].tolist()\n",
    "\n",
    "def pass_per_port(mylist):\n",
    "    queensland = 0\n",
    "    southampton = 0\n",
    "    cherbourg = 0\n",
    "    for f in mylist:\n",
    "        if f == 'Q':\n",
    "            queensland +=1\n",
    "        elif f == 'S':\n",
    "            southampton +=1\n",
    "        elif f == 'C':\n",
    "            cherbourg +=1\n",
    "    return queensland, southampton, cherbourg\n",
    "\n",
    "results = pass_per_port(fclass_list)\n",
    "second_results = pass_per_port(sclass_list)\n",
    "third_results = pass_per_port(tclass_list)\n",
    "\n",
    "print ('Locations Where Passengers Embarked')\n",
    "\n",
    "pass_class = pd.DataFrame({\n",
    "    'First Class': [results[0], results[1], results[2]], \n",
    "    'Second Class': [second_results[0], second_results[1], second_results[2]],\n",
    "    'Third Class': [third_results[0], third_results[1], third_results[2]], \n",
    "}, index = ['Queensland', 'Southampton', 'Cherbourg'])\n",
    "\n",
    "print(pass_class)\n",
    "pass_class.plot(kind='bar')"
   ]
  },
  {
   "cell_type": "code",
   "execution_count": null,
   "metadata": {
    "collapsed": true
   },
   "outputs": [],
   "source": []
  },
  {
   "cell_type": "markdown",
   "metadata": {
    "collapsed": true
   },
   "source": [
    "From looking at the Data, it would seem that the highest number of all passengers came from Southhampton.  While Queensland had the lowest number of passengers."
   ]
  },
  {
   "cell_type": "markdown",
   "metadata": {},
   "source": [
    "## Calculating Survival by port entry"
   ]
  },
  {
   "cell_type": "code",
   "execution_count": 98,
   "metadata": {},
   "outputs": [],
   "source": [
    "survival_fc = titanic_df[['Embarked', 'Survived', 'Pclass']]\n",
    "first_classers = survival_fc.groupby('Pclass').get_group(1)\n",
    "survived_in_first_class = first_classers.groupby('Survived').get_group(True)\n",
    "\n",
    "fc_queensland_survivors = survived_in_first_class.groupby('Embarked').get_group('Q')\n",
    "fc_southampton_survivors = survived_in_first_class.groupby('Embarked').get_group('S')\n",
    "fc_cherbourg_survivors = survived_in_first_class.groupby('Embarked').get_group('C')\n",
    "\n",
    "second_classers = survival_fc.groupby('Pclass').get_group(2)\n",
    "survived_in_second_class = second_classers.groupby('Survived').get_group(True)\n",
    "\n",
    "sc_queensland_survivors = survived_in_second_class.groupby('Embarked').get_group('Q')\n",
    "sc_southampton_survivors = survived_in_second_class.groupby('Embarked').get_group('S')\n",
    "sc_cherbourg_survivors = survived_in_second_class.groupby('Embarked').get_group('C')\n",
    "\n",
    "\n",
    "third_classers = survival_fc.groupby('Pclass').get_group(3)\n",
    "survived_in_third_class = third_classers.groupby('Survived').get_group(True)\n",
    "\n",
    "tc_queensland_survivors = survived_in_third_class.groupby('Embarked').get_group('Q')\n",
    "tc_southampton_survivors = survived_in_third_class.groupby('Embarked').get_group('S')\n",
    "tc_cherbourg_survivors = survived_in_third_class.groupby('Embarked').get_group('C')\n",
    "\n",
    "total_fc = len(fc_queensland_survivors) + len(fc_southampton_survivors) + len(fc_cherbourg_survivors)\n",
    "total_sc = len(sc_queensland_survivors) + len(sc_southampton_survivors) + len(sc_cherbourg_survivors)\n",
    "total_tc = len(tc_queensland_survivors) + len(tc_southampton_survivors) + len(tc_cherbourg_survivors)\n",
    "\n",
    "survival_chart = pd.DataFrame({\n",
    "    'First Class':[len(fc_queensland_survivors), len(fc_southampton_survivors), len(fc_cherbourg_survivors), total_fc],\n",
    "    'Second Class':[len(sc_queensland_survivors), len(sc_southampton_survivors), len(sc_cherbourg_survivors), total_sc],\n",
    "    'Third Class':[len(tc_queensland_survivors), len(tc_southampton_survivors), len(tc_cherbourg_survivors), total_tc]\n",
    "}, index = ['Queensland', 'Southampton', 'Cherbourg', 'Total'])\n"
   ]
  },
  {
   "cell_type": "markdown",
   "metadata": {},
   "source": [
    "## Here is a chart depicting the Survival based on port entry and class"
   ]
  },
  {
   "cell_type": "code",
   "execution_count": 99,
   "metadata": {},
   "outputs": [
    {
     "data": {
      "text/html": [
       "<div>\n",
       "<style>\n",
       "    .dataframe thead tr:only-child th {\n",
       "        text-align: right;\n",
       "    }\n",
       "\n",
       "    .dataframe thead th {\n",
       "        text-align: left;\n",
       "    }\n",
       "\n",
       "    .dataframe tbody tr th {\n",
       "        vertical-align: top;\n",
       "    }\n",
       "</style>\n",
       "<table border=\"1\" class=\"dataframe\">\n",
       "  <thead>\n",
       "    <tr style=\"text-align: right;\">\n",
       "      <th></th>\n",
       "      <th>First Class</th>\n",
       "      <th>Second Class</th>\n",
       "      <th>Third Class</th>\n",
       "    </tr>\n",
       "  </thead>\n",
       "  <tbody>\n",
       "    <tr>\n",
       "      <th>Queensland</th>\n",
       "      <td>1</td>\n",
       "      <td>2</td>\n",
       "      <td>27</td>\n",
       "    </tr>\n",
       "    <tr>\n",
       "      <th>Southampton</th>\n",
       "      <td>74</td>\n",
       "      <td>76</td>\n",
       "      <td>67</td>\n",
       "    </tr>\n",
       "    <tr>\n",
       "      <th>Cherbourg</th>\n",
       "      <td>59</td>\n",
       "      <td>9</td>\n",
       "      <td>25</td>\n",
       "    </tr>\n",
       "    <tr>\n",
       "      <th>Total</th>\n",
       "      <td>134</td>\n",
       "      <td>87</td>\n",
       "      <td>119</td>\n",
       "    </tr>\n",
       "  </tbody>\n",
       "</table>\n",
       "</div>"
      ],
      "text/plain": [
       "             First Class  Second Class  Third Class\n",
       "Queensland             1             2           27\n",
       "Southampton           74            76           67\n",
       "Cherbourg             59             9           25\n",
       "Total                134            87          119"
      ]
     },
     "execution_count": 99,
     "metadata": {},
     "output_type": "execute_result"
    }
   ],
   "source": [
    "survival_chart"
   ]
  },
  {
   "cell_type": "code",
   "execution_count": 106,
   "metadata": {},
   "outputs": [
    {
     "data": {
      "text/plain": [
       "<matplotlib.axes._subplots.AxesSubplot at 0x11a23f278>"
      ]
     },
     "execution_count": 106,
     "metadata": {},
     "output_type": "execute_result"
    },
    {
     "data": {
      "image/png": "[encoded data removed]",
      "text/plain": [
       "<matplotlib.figure.Figure at 0x11a09c7b8>"
      ]
     },
     "metadata": {},
     "output_type": "display_data"
    }
   ],
   "source": [
    "survival_chart.plot(kind = 'bar')"
   ]
  },
  {
   "cell_type": "markdown",
   "metadata": {},
   "source": [
    "## Survival Rate\n",
    "In comparing the two charts, I will try to determine if survival rates How survival rates compared by port and by class."
   ]
  },
  {
   "cell_type": "code",
   "execution_count": null,
   "metadata": {
    "collapsed": true
   },
   "outputs": [],
   "source": []
  },
  {
   "cell_type": "code",
   "execution_count": null,
   "metadata": {
    "collapsed": true
   },
   "outputs": [],
   "source": []
  }
 ],
 "metadata": {
  "kernelspec": {
   "display_name": "Python 3",
   "language": "python",
   "name": "python3"
  },
  "language_info": {
   "codemirror_mode": {
    "name": "ipython",
    "version": 3
   },
   "file_extension": ".py",
   "mimetype": "text/x-python",
   "name": "python",
   "nbconvert_exporter": "python",
   "pygments_lexer": "ipython3",
   "version": "3.6.1"
  }
 },
 "nbformat": 4,
 "nbformat_minor": 2
}
