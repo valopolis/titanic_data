{
 "cells": [
  {
   "cell_type": "code",
   "execution_count": null,
   "metadata": {},
   "outputs": [],
   "source": [
    "import unicodecsv\n",
    "import numpy as np\n",
    "import pandas as pd\n",
    "import seaborn as sns\n",
    "import matplotlib.pyplot as plt\n",
    "%matplotlib inline"
   ]
  },
  {
   "cell_type": "markdown",
   "metadata": {},
   "source": [
    "# The Data"
   ]
  },
  {
   "cell_type": "markdown",
   "metadata": {},
   "source": [
    "At 2:20 am, on April 15, 1912, the RMS Titanic sank miles off the coast of Canada. The titanic was a luxury ocean liner and was carrying over 2,000 passengers from ports in England, France, and Ireland to New York City. A little over 2 hours after hitting an iceberg, the Titanic broke in half and sank bringing over 1500 people with her. \n",
    "\n",
    "The data that follows is a sample of passengers from the Titanic. The data includes passengers of all ages, and class levels. Within this sample, there are passengers who came aboard the Titanic at Cherbourg, France; Queenstown, Ireland; and Southampton, England. I will explore this data and create conclusions based on the following questions:\n",
    "\n",
    "How many survivors were there? \n",
    "What was the average price of tickets in each class? \n",
    "Which port had the highest/lowest amount of 1st class passengers? \n",
    "Was there a higher survival rate among passengers from a certain port? A certain class?"
   ]
  },
  {
   "cell_type": "code",
   "execution_count": null,
   "metadata": {},
   "outputs": [],
   "source": [
    "# reading in the file\n",
    "titanic = pd.read_csv('titanic-data.csv')\n",
    "\n",
    "#changing dtypes to preferable formats\n",
    "titanic['Survived'] = titanic['Survived'].astype(bool)\n",
    "titanic.head(5)"
   ]
  },
  {
   "cell_type": "code",
   "execution_count": null,
   "metadata": {},
   "outputs": [],
   "source": [
    "# double checking number of sample passengers\n",
    "print (len(titanic))\n",
    "\n",
    "#drop rows where there is no data\n",
    "titanic.dropna(axis=0, how='all')\n",
    "\n",
    "#drop duplicates\n",
    "titanic.drop_duplicates('Name')\n",
    "\n",
    "print (len(titanic))"
   ]
  },
  {
   "cell_type": "code",
   "execution_count": null,
   "metadata": {},
   "outputs": [],
   "source": [
    "min_fare = titanic['Fare'].min()\n",
    "max_fare = titanic['Fare'].max()\n",
    "std_fare = titanic['Fare'].std()\n",
    "\n",
    "bins = [0, 25, 50, 75, 100, 1000]\n",
    "fare_category = ['$0-$25', '$25-$50', '$50-$75', '$75-$100', 'Over $100']\n",
    "cut_fares = pd.cut(titanic['Fare'], bins, labels=fare_category)\n",
    "titanic['cut_fares'] = pd.cut(titanic['Fare'], bins, labels=fare_category)\n",
    "    \n",
    "#separate passengers into class\n",
    "\n",
    "first_class = titanic.groupby('Pclass').get_group(1)\n",
    "second_class = titanic.groupby('Pclass').get_group(2)\n",
    "third_class = titanic.groupby('Pclass').get_group(3)\n",
    "\n",
    "# calculating number of passengers in each class\n",
    "num_1st_class = len(first_class)\n",
    "num_2nd_class = len(second_class)\n",
    "num_3rd_class = len(third_class)\n",
    "\n",
    "#double checking to make sure the total is the same\n",
    "totals = num_1st_class + num_2nd_class + num_3rd_class\n",
    "\n",
    "print(totals)\n",
    "\n",
    "fc_fare_category = first_class['cut_fares'].tolist()\n",
    "sc_fare_category = second_class['cut_fares'].tolist()\n",
    "tc_fare_category = third_class['cut_fares'].tolist()\n",
    "\n",
    "def scan_fares(mylist):\n",
    "    bin1 = 0\n",
    "    bin2 = 0\n",
    "    bin3 = 0\n",
    "    bin4 = 0\n",
    "    bin5 = 0\n",
    "    for fares in mylist:\n",
    "        if fares == '$0-$25':\n",
    "            bin1 += 1\n",
    "        elif fares == '$25-$50':\n",
    "            bin2 += 1\n",
    "        elif fares == '$50-$75':\n",
    "            bin3 += 1\n",
    "        elif fares == '$75-$100':\n",
    "            bin4 += 1\n",
    "        elif fares == 'Over $100':\n",
    "            bin5 += 1\n",
    "            \n",
    "    return bin1, bin2, bin3, bin4, bin5\n",
    "\n",
    "fc_bins = scan_fares(fc_fare_category)\n",
    "sc_bins = scan_fares(sc_fare_category)\n",
    "tc_bins = scan_fares(tc_fare_category)"
   ]
  },
  {
   "cell_type": "markdown",
   "metadata": {},
   "source": [
    "# Calculating Ticket Prices"
   ]
  },
  {
   "cell_type": "markdown",
   "metadata": {},
   "source": [
    "Many people were scraping together their last dime to raise the money for a ticket on the doomed ocean liner.  Some passengers, mainly those in 1st class, had no trouble paying the fare, while others, mainly those in 3rd class, really struggled.  What was the average price of a ticket on the Titanic?"
   ]
  },
  {
   "cell_type": "code",
   "execution_count": null,
   "metadata": {},
   "outputs": [],
   "source": [
    "print ('First class passengers paid an average of ${}'.format(first_class['Fare'].mean()))\n",
    "print ('Second class passengers paid an average of ${}'.format(second_class['Fare'].mean()))\n",
    "print ('Third class passengers paid an average of ${}'.format(third_class['Fare'].mean()))\n",
    "\n",
    "fare_chart = pd.DataFrame ({\n",
    "    'First Class':[fc_bins[0], fc_bins[1], fc_bins[2], fc_bins[3], fc_bins[4]],\n",
    "    'Second Class':[sc_bins[0], sc_bins[1], sc_bins[2], sc_bins[3], sc_bins[4]],\n",
    "    'Third Class':[tc_bins[0], tc_bins[1], tc_bins[2], tc_bins[3], tc_bins[4]]\n",
    "}, index=['$0-$25', '$25-$50', '$50-$75', '$75-$100', 'Over $100'])\n",
    "fare_chart"
   ]
  },
  {
   "cell_type": "code",
   "execution_count": null,
   "metadata": {},
   "outputs": [],
   "source": [
    "fare_distribution = pd.DataFrame ({\n",
    "    'First Class':[first_class['Fare'].min(), first_class['Fare'].median(), first_class['Fare'].max(), first_class['Fare'].std()],\n",
    "    'Second Class':[second_class['Fare'].min(), second_class['Fare'].median(), second_class['Fare'].max(), second_class['Fare'].std()],\n",
    "    'Third Class':[third_class['Fare'].min(), third_class['Fare'].median(), third_class['Fare'].max(), third_class['Fare'].std()]\n",
    "}, index = ['Min', 'Median', 'Max', 'Standard Deviation'])\n",
    "\n",
    "fare_distribution"
   ]
  },
  {
   "cell_type": "code",
   "execution_count": null,
   "metadata": {},
   "outputs": [],
   "source": []
  },
  {
   "cell_type": "markdown",
   "metadata": {},
   "source": [
    "With $14.45 being the median fare, $512 "
   ]
  },
  {
   "cell_type": "markdown",
   "metadata": {},
   "source": [
    "# Origin of Passengers"
   ]
  },
  {
   "cell_type": "markdown",
   "metadata": {},
   "source": [
    "There were 3 ports in which passengers boarded.  There were 1st, 2nd, and 3rd class passengers in each port. Some passengers boarded in Southampton, England; some boarded in Queenstown, Ireland; and some boarded in Cherbourg, France.  Here is a chart organized into ports of origin, and ticket class."
   ]
  },
  {
   "cell_type": "code",
   "execution_count": null,
   "metadata": {},
   "outputs": [],
   "source": [
    "fclass_list = first_class['Embarked'].tolist()\n",
    "sclass_list = second_class['Embarked'].tolist()\n",
    "tclass_list = third_class['Embarked'].tolist()\n",
    "\n",
    "def pass_per_port(mylist):\n",
    "    queensland = 0\n",
    "    southampton = 0\n",
    "    cherbourg = 0\n",
    "    for f in mylist:\n",
    "        if f == 'Q':\n",
    "            queensland +=1\n",
    "        elif f == 'S':\n",
    "            southampton +=1\n",
    "        elif f == 'C':\n",
    "            cherbourg +=1\n",
    "    return queensland, southampton, cherbourg\n",
    "\n",
    "results = pass_per_port(fclass_list)\n",
    "second_results = pass_per_port(sclass_list)\n",
    "third_results = pass_per_port(tclass_list)\n",
    "\n",
    "print ('Locations Where Passengers Embarked')\n",
    "\n",
    "passenger_class = pd.DataFrame({\n",
    "    'First Class': [results[0], results[1], results[2]], \n",
    "    'Second Class': [second_results[0], second_results[1], second_results[2]],\n",
    "    'Third Class': [third_results[0], third_results[1], third_results[2]], \n",
    "}, index = ['Queensland', 'Southampton', 'Cherbourg'])\n",
    "\n",
    "passenger_class"
   ]
  },
  {
   "cell_type": "code",
   "execution_count": null,
   "metadata": {
    "collapsed": true
   },
   "outputs": [],
   "source": [
    "def proportions(number):\n",
    "    #converting a number to a proportion based on total passengers\n",
    "    proportion = number/totals\n",
    "    proportion = round(proportion, 3)\n",
    "    return proportion\n",
    "\n",
    "def percentages(number):\n",
    "    #converting a number to a percentage based on total passengers\n",
    "    percent = (number/totals)*100\n",
    "    percent = round(percent, 1)\n",
    "    return percent\n",
    "\n",
    "total_queensland = passenger_class.loc['Queensland'].values.sum()\n",
    "total_southampton = passenger_class.loc['Southampton'].values.sum()\n",
    "total_cherbourg = passenger_class.loc['Cherbourg'].values.sum()"
   ]
  },
  {
   "cell_type": "code",
   "execution_count": null,
   "metadata": {},
   "outputs": [],
   "source": [
    "totals_by_port = pd.DataFrame ({\n",
    "    'Queensland':[total_queensland],\n",
    "    'Southampton':[total_southampton],\n",
    "    'Cherbourg':[total_cherbourg]\n",
    "}, index = ['Totals'])\n",
    "\n",
    "totals_by_port"
   ]
  },
  {
   "cell_type": "markdown",
   "metadata": {},
   "source": [
    "And by proportion to the total number of passengers"
   ]
  },
  {
   "cell_type": "code",
   "execution_count": null,
   "metadata": {},
   "outputs": [],
   "source": [
    "totals_by_port.applymap(proportions)"
   ]
  },
  {
   "cell_type": "code",
   "execution_count": null,
   "metadata": {},
   "outputs": [],
   "source": [
    "print ('Out of {} passengers, {} were 1st class, {} were 2nd class, and {} were 3rd class passengers '\n",
    "      .format(totals, proportions(num_1st_class), proportions(num_2nd_class), proportions(num_3rd_class)))\n",
    "\n",
    "location_proportions = pd.DataFrame ({\n",
    "    'First Class': [proportions(results[0]), proportions(results[1]), proportions(results[2])],\n",
    "    'Second Class':[proportions(second_results[0]), proportions(second_results[1]), proportions(second_results[2])],\n",
    "    'Third Class': [proportions(third_results[0]), proportions(third_results[1]), proportions(third_results[2])]\n",
    "}, index = ['Queensland', 'Southampton', 'Cherbourg'])\n",
    "\n",
    "location_proportions"
   ]
  },
  {
   "cell_type": "markdown",
   "metadata": {},
   "source": [
    "# Calculating Survivor Statistics"
   ]
  },
  {
   "cell_type": "markdown",
   "metadata": {},
   "source": [
    "There were many passengers who were rescued from the water.  How many and what proportion of passengers survived that night?"
   ]
  },
  {
   "cell_type": "code",
   "execution_count": null,
   "metadata": {},
   "outputs": [],
   "source": [
    "survivors = titanic.groupby('Survived').get_group(True)\n",
    "        \n",
    "def survival_proportions(number):\n",
    "    #converting a number to a proportion based on the total number of survivors\n",
    "    proportion = number/(len(survivors))\n",
    "    proportion = round(proportion, 3)\n",
    "    return proportion\n",
    "        \n",
    "print ('{} or {} passengers survived'.format(len(survivors), proportions(len(survivors))))"
   ]
  },
  {
   "cell_type": "markdown",
   "metadata": {},
   "source": [
    "### Survival By Port Entry"
   ]
  },
  {
   "cell_type": "code",
   "execution_count": null,
   "metadata": {},
   "outputs": [],
   "source": [
    "survived_in_first_class = survivors.groupby('Pclass').get_group(1)\n",
    "\n",
    "fc_queensland_survivors = survived_in_first_class.groupby('Embarked').get_group('Q')\n",
    "fc_southampton_survivors = survived_in_first_class.groupby('Embarked').get_group('S')\n",
    "fc_cherbourg_survivors = survived_in_first_class.groupby('Embarked').get_group('C')\n",
    "\n",
    "survived_in_second_class = survivors.groupby('Pclass').get_group(2)\n",
    "\n",
    "sc_queensland_survivors = survived_in_second_class.groupby('Embarked').get_group('Q')\n",
    "sc_southampton_survivors = survived_in_second_class.groupby('Embarked').get_group('S')\n",
    "sc_cherbourg_survivors = survived_in_second_class.groupby('Embarked').get_group('C')\n",
    "\n",
    "survived_in_third_class = survivors.groupby('Pclass').get_group(3)\n",
    "\n",
    "tc_queensland_survivors = survived_in_third_class.groupby('Embarked').get_group('Q')\n",
    "tc_southampton_survivors = survived_in_third_class.groupby('Embarked').get_group('S')\n",
    "tc_cherbourg_survivors = survived_in_third_class.groupby('Embarked').get_group('C')\n",
    "\n",
    "total_fc = len(fc_queensland_survivors) + len(fc_southampton_survivors) + len(fc_cherbourg_survivors)\n",
    "total_sc = len(sc_queensland_survivors) + len(sc_southampton_survivors) + len(sc_cherbourg_survivors)\n",
    "total_tc = len(tc_queensland_survivors) + len(tc_southampton_survivors) + len(tc_cherbourg_survivors)\n",
    "\n",
    "survival_chart = pd.DataFrame({\n",
    "    'First Class':[len(fc_queensland_survivors), len(fc_southampton_survivors), len(fc_cherbourg_survivors), total_fc],\n",
    "    'Second Class':[len(sc_queensland_survivors), len(sc_southampton_survivors), len(sc_cherbourg_survivors), total_sc],\n",
    "    'Third Class':[len(tc_queensland_survivors), len(tc_southampton_survivors), len(tc_cherbourg_survivors), total_tc]\n",
    "}, index = ['Queensland', 'Southampton', 'Cherbourg', 'Total'])\n"
   ]
  },
  {
   "cell_type": "code",
   "execution_count": null,
   "metadata": {},
   "outputs": [],
   "source": [
    "survival_chart"
   ]
  },
  {
   "cell_type": "code",
   "execution_count": null,
   "metadata": {},
   "outputs": [],
   "source": [
    "survival_chart[0:3].applymap(proportions)"
   ]
  },
  {
   "cell_type": "markdown",
   "metadata": {},
   "source": [
    "And by proportion to the total number of suvivors"
   ]
  },
  {
   "cell_type": "code",
   "execution_count": null,
   "metadata": {},
   "outputs": [],
   "source": [
    "survival_chart[0:3].applymap(survival_proportions)"
   ]
  },
  {
   "cell_type": "markdown",
   "metadata": {},
   "source": [
    "#### Survival Rates"
   ]
  },
  {
   "cell_type": "markdown",
   "metadata": {},
   "source": [
    "In viewing the chart below"
   ]
  },
  {
   "cell_type": "code",
   "execution_count": null,
   "metadata": {},
   "outputs": [],
   "source": [
    "fc_survival_rate = proportions(total_fc)\n",
    "sc_survival_rate = proportions(total_sc)\n",
    "tc_survival_rate = proportions(total_tc)\n",
    "\n",
    "fc_percent = percentages(total_fc)\n",
    "sc_percent = percentages(total_sc)\n",
    "tc_percent = percentages(total_tc)\n",
    "\n",
    "survival_rates = pd.DataFrame ({\n",
    "    'First Class':[fc_survival_rate, fc_percent],\n",
    "    'Second Class':[sc_survival_rate, sc_percent],\n",
    "    'Third Class':[tc_survival_rate, tc_percent]\n",
    "}, index=['Proportion', 'Percentage'])\n",
    "\n",
    "survival_rates"
   ]
  },
  {
   "cell_type": "markdown",
   "metadata": {},
   "source": [
    "# Charts"
   ]
  },
  {
   "cell_type": "markdown",
   "metadata": {},
   "source": [
    "#### Fare Prices"
   ]
  },
  {
   "cell_type": "code",
   "execution_count": null,
   "metadata": {},
   "outputs": [],
   "source": [
    "titanic['Fare'].hist(bins=5)"
   ]
  },
  {
   "cell_type": "markdown",
   "metadata": {},
   "source": [
    "#### Proportion of Passengers per port"
   ]
  },
  {
   "cell_type": "code",
   "execution_count": null,
   "metadata": {},
   "outputs": [],
   "source": [
    "totals_by_port.applymap(proportions).plot(kind = 'bar')"
   ]
  },
  {
   "cell_type": "markdown",
   "metadata": {},
   "source": [
    "#### Ports of Origin for each ticket class"
   ]
  },
  {
   "cell_type": "code",
   "execution_count": null,
   "metadata": {},
   "outputs": [],
   "source": [
    "location_proportions.plot(kind='bar')"
   ]
  },
  {
   "cell_type": "markdown",
   "metadata": {},
   "source": [
    "#### Survival Chart"
   ]
  },
  {
   "cell_type": "code",
   "execution_count": null,
   "metadata": {},
   "outputs": [],
   "source": [
    "survival_chart.applymap(proportions).plot(kind = 'bar')"
   ]
  },
  {
   "cell_type": "markdown",
   "metadata": {},
   "source": [
    "# Conclusion"
   ]
  },
  {
   "cell_type": "markdown",
   "metadata": {},
   "source": [
    "In conclusion, less than half of the passengers on Titanic survived, with the survival rate of .38.  Most of the survivors were 2nd class passengers from Southampton, England at .222 which is only slightly more than the .216 1st class passengers also from Southampton, England.\n",
    "\n",
    "Queensland, Ireland was the port with the fewest passengers with .086 of the total. Southampton, England was the port with the most passengers at .723 of the total.  So it was not surprising to see that most of the survivors came from Southampton since that is where the majority of the passengers were from anyway.  What was surprising to me was that the amount of 3rd class passengers who survived is only slightly less than the total first class surviving passengers, and much more than the 2nd class passengers.  Of course given the fact that there were a higher number of 3rd class passengers to begin with this would not be surprising except that it counters the notion that 3rd class passengers were not given a fair chance to survive because of their lower status.\n",
    "\n",
    "This data seems to indicate that 2nd and 3rd class passengers had a fair chance of survival. "
   ]
  },
  {
   "cell_type": "code",
   "execution_count": null,
   "metadata": {
    "collapsed": true
   },
   "outputs": [],
   "source": []
  }
 ],
 "metadata": {
  "kernelspec": {
   "display_name": "Python 3",
   "language": "python",
   "name": "python3"
  },
  "language_info": {
   "codemirror_mode": {
    "name": "ipython",
    "version": 3
   },
   "file_extension": ".py",
   "mimetype": "text/x-python",
   "name": "python",
   "nbconvert_exporter": "python",
   "pygments_lexer": "ipython3",
   "version": "3.6.1"
  }
 },
 "nbformat": 4,
 "nbformat_minor": 2
}
